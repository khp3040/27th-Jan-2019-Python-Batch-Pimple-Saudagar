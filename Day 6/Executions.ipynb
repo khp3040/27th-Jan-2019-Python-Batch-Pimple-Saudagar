{
 "cells": [
  {
   "cell_type": "code",
   "execution_count": 106,
   "metadata": {
    "collapsed": false
   },
   "outputs": [
    {
     "name": "stdout",
     "output_type": "stream",
     "text": [
      "[(1, {'salary': 20000, 'name': 'Jatin'}), (2, {'salary': 40000, 'name': 'Vijay'}), (3, {'salary': 15000, 'name': 'Rahul'}), (4, {'salary': 90000, 'name': 'Aditi'})]\n",
      "[(4, {'salary': 90000, 'name': 'Aditi'}), (2, {'salary': 40000, 'name': 'Vijay'}), (1, {'salary': 20000, 'name': 'Jatin'}), (3, {'salary': 15000, 'name': 'Rahul'})]\n"
     ]
    }
   ],
   "source": [
    "employees = {1:{'name':'Jatin', 'salary':20000}, 2:{'name':'Vijay', 'salary':40000},\n",
    "            3:{'name':'Rahul', 'salary':15000},4:{'name':'Aditi', 'salary':90000}}\n",
    "\n",
    "print employees.items()\n",
    "print sorted(employees.items(), key=lambda x: x[1]['salary'], reverse=True)"
   ]
  },
  {
   "cell_type": "code",
   "execution_count": 98,
   "metadata": {
    "collapsed": false
   },
   "outputs": [
    {
     "name": "stdout",
     "output_type": "stream",
     "text": [
      "Help on built-in function popitem:\n",
      "\n",
      "popitem(...)\n",
      "    D.popitem() -> (k, v), remove and return some (key, value) pair as a\n",
      "    2-tuple; but raise KeyError if D is empty.\n",
      "\n"
     ]
    }
   ],
   "source": [
    "help(employees.popitem)"
   ]
  },
  {
   "cell_type": "code",
   "execution_count": null,
   "metadata": {
    "collapsed": true
   },
   "outputs": [],
   "source": [
    "name, pay = 'jatin', 10\n",
    "\n",
    "# Old sytle of formatting\n",
    "print 'Hello %s, please pay $%d to me' %(name, pay)\n",
    "\n",
    "# New Style of formatting\n",
    "print 'Hello {name1}, please pay ${pay2} to me'.format(name1 = name, pay2 = pay)\n",
    "\n",
    "csv = 'This,is,a,string,which,contains,10.11.12.13'\n",
    "words = csv.split(',')\n",
    "print '|'.join(words)\n",
    "\n",
    "string = 'This is my string'\n",
    "print string.swapcase()\n",
    "\n",
    "print help(name.swapcase)\n",
    "\n",
    "'capitalize', 'center', 'count', 'decode', \n",
    "'encode', 'endswith', 'find', \n",
    "'format', 'index', 'isalnum', 'isalpha', 'isdigit', \n",
    "'islower', 'isspace', 'istitle', 'isupper', 'join', 'ljust', \n",
    "'lower', 'lstrip', 'partition', 'replace', 'rfind', 'rindex',\n",
    "'rjust', 'rpartition', 'rsplit', 'rstrip', 'split', 'splitlines', \n",
    "'startswith', 'strip', 'swapcase', 'title', 'translate', 'upper', 'zfill'\n",
    "\n",
    "account = '7654345678987654'\n",
    "print account[-4:].ljust(16, 'X')\n",
    "print account[-4:].rjust(16, '0')\n",
    "string = '       This .       '\n",
    "print string.lstrip()\n",
    "print account[-4:].zfill(16)\n",
    "\n",
    "print '1245676321234567'[-4:].center(16, 'X').rstrip('X')\n",
    "\n",
    "numbers = range(5)\n",
    "numbers.insert(0, 'Python')\n",
    "numbers.reverse() # Inplace = True\n",
    "print numbers\n",
    "\n",
    "print list(reversed(numbers)) # Inplace = False\n",
    "\n",
    "random = [10,1,0,8765,11,9,6,11,10,14,20]\n",
    "random.sort(reverse=True) # Ascending sort, inplace=True\n",
    "print random\n",
    "\n",
    "print list(sorted(random, reverse=True)) # It returns\n",
    "\n",
    "names = ['aakash', 'Ankit', 'Amit', 'azad', 'ajay']\n",
    "names.sort(key=str.upper)\n",
    "print names\n",
    "\n",
    "\n",
    "\n",
    "# Step1 - It fetch each object from iterable\n",
    "# aakash .   Ankit .  Amit .  azad .  ajay\n",
    "\n",
    "# Step 2 - apply the function of each object\n",
    "# apply a function str.upper\n",
    "# AAKASH  ANKIT AMIT AZAD AJAY\n",
    "\n",
    "# Step 3 - it does the sorting\n",
    "# AAKASH AJAY AMIT ANKIT AZAD\n",
    "\n",
    "# Step 4 - rearrange and get original value\n",
    "# aakash ajay Amit Ankit azad\n",
    "\n",
    "\n",
    "employees = [['Aakash', 30000, 'IT', 'Pune'], ['Mohan', 40000, 'HR', 'Pune'],\n",
    "             ['Jatin', 10000,'Admin', 'Bangalore'],\n",
    "             ['Vijay', 15000, 'IT', 'Bangalore']]\n",
    "\n",
    "print sorted(employees, key=lambda x: x[1] if x[2] == 'IT' \n",
    "             and x[3] == 'Bangalore' else 0, \n",
    "             reverse=True)[:3]\n",
    "\n",
    "# Step 1 - ['Aakash', 30000]   ['Mohan', 40000] ['Jatin', 10000] ['Vijay', 15000]\n",
    "# Step 2 - lambda x: x[1]\n",
    "# 30000, 40000, 10000, 15000\n",
    "# Step 3 - 40000, 30000, 0, 0\n",
    "# Step 4 - ['Mohan', 40000] ['Aakash', 30000] ['Vijay', 15000] ['Jatin', 10000]\n",
    "\n",
    "employees = [['Aakash', 30000, 'IT', 'Pune'], ['Mohan', 40000, 'HR', 'Pune'],\n",
    "             ['Jatin', 10000,'Admin', 'Bangalore'],\n",
    "             ['Vijay', 15000, 'IT', 'Bangalore']]\n",
    "\n",
    "print sorted(employees, key=lambda x: x[1] if x[2] == 'IT' \n",
    "             else \n",
    "             max(map(lambda x: x[1] if x[2] == 'IT' else 0, employees)))[:1]\n",
    "\n",
    "# Step 1 - ['Aakash', 30000]   ['Mohan', 40000] ['Jatin', 10000] ['Vijay', 15000]\n",
    "# Step 2 - lambda x: x[1]\n",
    "# 30000, 40000, 10000, 15000\n",
    "# Step 3 - 40000, 30000, 0, 0\n",
    "# Step 4 - ['Mohan', 40000] ['Aakash', 30000] ['Vijay', 15000] ['Jatin', 10000]\n",
    "\n",
    "\n",
    "\n",
    "'''\n",
    "employee = {1 Million Data}\n",
    "\n",
    "employee = {}\n",
    "del employees\n",
    "employee.clear()\n",
    "'''\n",
    "\n",
    "\n",
    "'clear', 'copy', 'get', 'has_key', 'items', \n",
    "'iteritems', 'iterkeys', 'itervalues', 'keys',\n",
    "'pop', 'popitem', 'values']\n",
    "\n",
    "employees = {1:['Jatin', 10000], 2:['Vijay', 20000], 3:['Mohan', 50000]}\n",
    "\n",
    "print employees.keys()\n",
    "\n",
    "# Iteritems in Python2 same as iterms in Python3\n",
    "# Itervalues in Python2 same as values in Python3\n",
    "# Iterkeys in Python2 same as keys in Python3\n",
    "\n",
    "random = (10,1,0,3,9,19)\n",
    "print sorted(random)"
   ]
  }
 ],
 "metadata": {
  "kernelspec": {
   "display_name": "Python 2",
   "language": "python",
   "name": "python2"
  },
  "language_info": {
   "codemirror_mode": {
    "name": "ipython",
    "version": 2
   },
   "file_extension": ".py",
   "mimetype": "text/x-python",
   "name": "python",
   "nbconvert_exporter": "python",
   "pygments_lexer": "ipython2",
   "version": "2.7.13"
  }
 },
 "nbformat": 4,
 "nbformat_minor": 2
}
