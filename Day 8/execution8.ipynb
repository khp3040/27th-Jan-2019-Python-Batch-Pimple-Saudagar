{
 "cells": [
  {
   "cell_type": "code",
   "execution_count": 54,
   "metadata": {
    "collapsed": false
   },
   "outputs": [
    {
     "name": "stdout",
     "output_type": "stream",
     "text": [
      "Sunday\n",
      "2019-01-01 00:00:00\n"
     ]
    }
   ],
   "source": [
    "from datetime import datetime\n",
    "from datetime import date\n",
    "from datetime import timedelta\n",
    "\n",
    "today = date.today() # Date\n",
    "now = datetime.now() # Datetime\n",
    "\n",
    "older1 = datetime(2019, 1, 1)\n",
    "older2 = date(2019, 1, 1)\n",
    "\n",
    "print (now + timedelta(1)).strftime('%A')\n",
    "\n",
    "date = '2019/01/01'\n",
    "print datetime.strptime(date, '%Y/%m/%d')"
   ]
  },
  {
   "cell_type": "code",
   "execution_count": 24,
   "metadata": {
    "collapsed": false
   },
   "outputs": [],
   "source": [
    "import os, zipfile\n",
    "\n",
    "with zipfile.ZipFile('/Users/jatinmiglani/Dropbox/27thJanBackup.bckp', 'w') as zf:\n",
    "    for directory, subdir, files in os.walk('/Users/jatinmiglani/Dropbox/27th Jan Python Batch Pimple Saudagar'):\n",
    "        for file in files:\n",
    "            if file.endswith('.py'):\n",
    "                zf.write(os.path.join(directory, file))\n",
    "    \n",
    "        "
   ]
  },
  {
   "cell_type": "code",
   "execution_count": 20,
   "metadata": {
    "collapsed": false
   },
   "outputs": [
    {
     "name": "stdout",
     "output_type": "stream",
     "text": [
      "Enter a directory: /Users/jatinmiglani/Dropbox/27th Jan Python Batch Pimple Saudagar/Day 8\n",
      "Removing file: /Users/jatinmiglani/Dropbox/27th Jan Python Batch Pimple Saudagar/Day 8/file2.txt\n",
      "Removing file: /Users/jatinmiglani/Dropbox/27th Jan Python Batch Pimple Saudagar/Day 8/file3.txt\n",
      "Removing file: /Users/jatinmiglani/Dropbox/27th Jan Python Batch Pimple Saudagar/Day 8/file1.txt\n",
      "Removing file: /Users/jatinmiglani/Dropbox/27th Jan Python Batch Pimple Saudagar/Day 8/filename.txt\n"
     ]
    }
   ],
   "source": [
    "import os\n",
    "\n",
    "directory = raw_input('Enter a directory: ')\n",
    "if os.path.isdir(directory):\n",
    "    os.chdir(directory)\n",
    "    for file in os.listdir(directory):\n",
    "        if os.path.isfile(file):\n",
    "            size = os.path.getsize(file)\n",
    "            if size == 0:\n",
    "                print 'Removing file: {}'.format(os.path.join(directory, file))\n",
    "                os.remove(file)\n",
    "        else:\n",
    "            continue\n",
    "else:\n",
    "    print 'Invalid Directory'"
   ]
  },
  {
   "cell_type": "code",
   "execution_count": 45,
   "metadata": {
    "collapsed": false
   },
   "outputs": [
    {
     "name": "stdout",
     "output_type": "stream",
     "text": [
      "3.14159265359\n",
      "4.0\n",
      "40320\n",
      "/Users/jatinmiglani/Dropbox/27th Jan Python Batch Pimple Saudagar/Day 8\n",
      "/Users/jatinmiglani/Dropbox/27th Jan Python Batch Pimple Saudagar/Day 8\n",
      "['Error', 'ExecError', 'SpecialFileError', 'WindowsError', '_ARCHIVE_FORMATS', '__all__', '__builtins__', '__doc__', '__file__', '__name__', '__package__', '_basename', '_call_external_zip', '_destinsrc', '_get_gid', '_get_uid', '_make_tarball', '_make_zipfile', '_samefile', 'abspath', 'collections', 'copy', 'copy2', 'copyfile', 'copyfileobj', 'copymode', 'copystat', 'copytree', 'errno', 'fnmatch', 'get_archive_formats', 'getgrnam', 'getpwnam', 'ignore_patterns', 'make_archive', 'move', 'os', 'register_archive_format', 'rmtree', 'stat', 'sys', 'unregister_archive_format']\n",
      "True\n",
      "Friday\n",
      "Saturday\n"
     ]
    }
   ],
   "source": [
    "import math as m\n",
    "from math import factorial,ceil,pi,pow # Only import factorial function from math\n",
    "\n",
    "print pi\n",
    "print pow(2, 2)\n",
    "\n",
    "def factorial(x):\n",
    "    fact = 1\n",
    "    if (x < 0 or (not isinstance(x, int))):\n",
    "        raise ValueError\n",
    "    else:\n",
    "        for i in range(1, x+1):\n",
    "            fact *= i\n",
    "    return fact\n",
    "\n",
    "\n",
    "print factorial(8)\n",
    "factorial(8)\n",
    "\n",
    "import os\n",
    "print os.getcwd()\n",
    "os.chdir('/Users/jatinmiglani/Dropbox/27th Jan Python Batch Pimple Saudagar/Day 8')\n",
    "print os.getcwd()\n",
    "os.chdir('Day 8.1')\n",
    "\n",
    "\n",
    "import shutil\n",
    "print dir(shutil)\n",
    "\n",
    "print now > older1 # Comparison\n",
    "# Date - Python -- > convert --> string\n",
    "# string --> Python understanble datetime\n",
    "\n",
    "print datetime(2019, 11, 22).strftime('%A')\n",
    "\n",
    "print now.strftime('%A')"
   ]
  },
  {
   "cell_type": "code",
   "execution_count": null,
   "metadata": {
    "collapsed": true
   },
   "outputs": [],
   "source": []
  }
 ],
 "metadata": {
  "kernelspec": {
   "display_name": "Python 2",
   "language": "python",
   "name": "python2"
  },
  "language_info": {
   "codemirror_mode": {
    "name": "ipython",
    "version": 2
   },
   "file_extension": ".py",
   "mimetype": "text/x-python",
   "name": "python",
   "nbconvert_exporter": "python",
   "pygments_lexer": "ipython2",
   "version": "2.7.13"
  }
 },
 "nbformat": 4,
 "nbformat_minor": 2
}
