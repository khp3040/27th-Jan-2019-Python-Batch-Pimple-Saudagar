{
 "cells": [
  {
   "cell_type": "code",
   "execution_count": 73,
   "metadata": {},
   "outputs": [
    {
     "name": "stdout",
     "output_type": "stream",
     "text": [
      "['__and__', '__class__', '__cmp__', '__contains__', '__delattr__', '__doc__', '__eq__', '__format__', '__ge__', '__getattribute__', '__gt__', '__hash__', '__iand__', '__init__', '__ior__', '__isub__', '__iter__', '__ixor__', '__le__', '__len__', '__lt__', '__ne__', '__new__', '__or__', '__rand__', '__reduce__', '__reduce_ex__', '__repr__', '__ror__', '__rsub__', '__rxor__', '__setattr__', '__sizeof__', '__str__', '__sub__', '__subclasshook__', '__xor__', 'add', 'clear', 'copy', 'difference', 'difference_update', 'discard', 'intersection', 'intersection_update', 'isdisjoint', 'issubset', 'issuperset', 'pop', 'remove', 'symmetric_difference', 'symmetric_difference_update', 'union', 'update']\n"
     ]
    }
   ],
   "source": [
    "print dir(set)"
   ]
  },
  {
   "cell_type": "code",
   "execution_count": 42,
   "metadata": {},
   "outputs": [
    {
     "name": "stdout",
     "output_type": "stream",
     "text": [
      "30000\n"
     ]
    }
   ],
   "source": [
    "# I want to cube of every number from 1 to 10\n",
    "# def cube(x):\n",
    "#    return x ** 3\n",
    "employee = [['Jatin', 30000, 'IT', 'Pune'], \n",
    "            ['Rahul', 20000, 'HR', 'Pune'],\n",
    "            ['Mohan', 40000, 'IT', 'Bangalore'],\n",
    "            ['Vijay', 10000, 'Admin', 'Pune']]\n",
    "\n",
    "# Max salary of IT employee, min, mean, std, var\n",
    "print max(map(lambda x: x[1] if x[2] == 'IT' and x[3] == 'Pune' \n",
    "              else 0, employee))\n",
    "\n",
    "filter(lambda x: x, range(10))\n"
   ]
  },
  {
   "cell_type": "code",
   "execution_count": null,
   "metadata": {
    "collapsed": true
   },
   "outputs": [],
   "source": [
    "def func(var1, var2): # Definetion of function\n",
    "    \"\"\"\n",
    "    This is just a documentation of function\n",
    "    \"\"\"\n",
    "    print 'This is statement', var1\n",
    "    print 'This is statement', var2\n",
    "    \n",
    "func(20, 10) # Non Keyword Arguments\n",
    "\n",
    "print '**' * 20\n",
    "\n",
    "func(var2 = 10, var1 = 20) # Keyword Arguments\n",
    "\n",
    "print '**' * 20\n",
    "\n",
    "func(40, var3 = 20) # Combination of non keyword and keyword arguemnts\n",
    "\n",
    "# Rule1 - You cant have non keyword argument after keyword argument (Syntax)\n",
    "# non-keyword arg after keyword arg\n",
    "\n",
    "# Rule2 - For single arguments you can;t define multiple values (Runtime Error)\n",
    "# TypeError: func() got multiple values for keyword argument 'var1'\n",
    "\n",
    "# Rule3 - You accept only defined arguments in function (Run Time error)\n",
    "# func() got an unexpected keyword argument 'var3'\n",
    "\n",
    "\n",
    "def func(var1, var2=20, var3=50): # Definetion of function\n",
    "    \"\"\"\n",
    "    This is just a documentation of function\n",
    "    \"\"\"\n",
    "    print 'This is statement', var1\n",
    "    print 'This is statement', var2\n",
    "    print 'This is statement', var3\n",
    "\n",
    "# My above function accept one mand and one optional argument\n",
    "\n",
    "func(var1 = 10,  50)\n",
    "\n",
    "# Rule 4 - You cant have non default after default arguments (Syntax Error)\n",
    "# SyntaxError: non-default argument follows default argument\n",
    "\n",
    "# How you restrict the arguments to functions\n",
    "def add(a, b):\n",
    "    if isinstance(a, int) and isinstance(b, int):\n",
    "        return a + b\n",
    "    else:\n",
    "        raise ArithmeticError, \"a and b should be an intergers\"\n",
    "        \n",
    "print add(10, 20)\n",
    "\n",
    "print '**' * 20\n",
    "\n",
    "print add('name', 20)\n",
    "\n",
    "def function(var1, *args):\n",
    "    # This function is accepting n number of non keyword argument\n",
    "    print args # Hold in a form tuple object\n",
    "    \n",
    "function(10, 20)\n",
    "function(10, 20, 30)\n",
    "function(10)\n",
    "# function(var1=10, 20)\n",
    "\n",
    "def function(a, **kwargs):\n",
    "    # This function is accepting n number of non keyword argument\n",
    "    print a\n",
    "    print kwargs # Hold in a form tuple object\n",
    "    \n",
    "function(a=10, b=20, c=30)\n",
    "function(a=10)\n",
    "function(a=10, z=10)\n",
    "\n",
    "def func(a, b, *args, **kwargs):\n",
    "    print a, b\n",
    "    print args\n",
    "    print kwargs\n",
    "    \n",
    "func(10, 20, 30, 40, 50, 60, 70, a1=10, b2 = 20, c=30, d=40)\n",
    "\n",
    "\n",
    "def add(a, b):\n",
    "    if a > b:\n",
    "        return a + b\n",
    "    else:\n",
    "        return b - a\n",
    "\n",
    "# Syntax 1 - lambda a, b: a + b\n",
    "# Syntax 2 - lambda a, b: a + b if a > b else b - a  \n",
    "#In Lambda,'else' is mandatory with 'if'. this was not in comprehension\n",
    "\n",
    "# Comprehension\n",
    "# [x ** 3 for i in range(10) if x % 2]\n",
    "\n",
    "employee = [['Jatin', 30000, 'IT', 'Pune'], \n",
    "            ['Rahul', 20000, 'HR', 'Pune'],\n",
    "            ['Mohan', 40000, 'IT', 'Bangalore'],\n",
    "            ['Vijay', 10000, 'Admin', 'Pune']]\n",
    "\n",
    "filter(lambda x: True if x[2] == 'IT' else False, employee)\n",
    "\n",
    "reduce(lambda x, y: x + y, range(1,10), 1)"
   ]
  }
 ],
 "metadata": {
  "kernelspec": {
   "display_name": "Python 2",
   "language": "python",
   "name": "python2"
  },
  "language_info": {
   "codemirror_mode": {
    "name": "ipython",
    "version": 2
   },
   "file_extension": ".py",
   "mimetype": "text/x-python",
   "name": "python",
   "nbconvert_exporter": "python",
   "pygments_lexer": "ipython2",
   "version": "2.7.15"
  }
 },
 "nbformat": 4,
 "nbformat_minor": 2
}
